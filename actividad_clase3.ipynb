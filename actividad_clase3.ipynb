{
 "cells": [
  {
   "cell_type": "markdown",
   "metadata": {},
   "source": [
    "# Manipulación de Repositorios y Archivos en GitHub\n",
    "## Archivo en Jupyter Notebook"
   ]
  },
  {
   "cell_type": "markdown",
   "metadata": {},
   "source": [
    "### I Datos Simples:"
   ]
  },
  {
   "cell_type": "markdown",
   "metadata": {},
   "source": [
    "#### a) Crear una lista de nombres de ciudades."
   ]
  },
  {
   "cell_type": "code",
   "execution_count": 2,
   "metadata": {},
   "outputs": [],
   "source": [
    "ciudades = [\"Rio Grande\", \"Tolhuin\", \"Ushuaia\"]"
   ]
  },
  {
   "cell_type": "markdown",
   "metadata": {},
   "source": [
    "#### b) Crear un diccionario con información de empleados (nombre, cargo, salario)."
   ]
  },
  {
   "cell_type": "code",
   "execution_count": 4,
   "metadata": {},
   "outputs": [],
   "source": [
    "empleados = { 1: {\"nombre\": \"Monica\", \"cargo\": \"Gerente\", \"salario\": 500000}, \n",
    "             2: {\"nombre\": \"Micaela\", \"cargo\": \"Analista de datos\", \"salario\": 350000}, \n",
    "             3: {\"nombre\": \"Facundo\", \"cargo\": \"Desarrollador web\", \"salario\": 400000}, \n",
    "             4: {\"nombre\": \"Adrian\", \"cargo\": \"Diseñadora gráfica\", \"salario\": 380000}, \n",
    "          }"
   ]
  },
  {
   "cell_type": "markdown",
   "metadata": {},
   "source": [
    "#### c) Mostrar cómo acceder a un elemento específico en una lista y en un diccionario."
   ]
  },
  {
   "cell_type": "code",
   "execution_count": 3,
   "metadata": {},
   "outputs": [
    {
     "name": "stdout",
     "output_type": "stream",
     "text": [
      "Tolhuin\n"
     ]
    }
   ],
   "source": [
    "print(ciudades[1])"
   ]
  },
  {
   "cell_type": "code",
   "execution_count": 7,
   "metadata": {},
   "outputs": [
    {
     "name": "stdout",
     "output_type": "stream",
     "text": [
      "{'nombre': 'Micaela', 'cargo': 'Analista de datos', 'salario': 350000}\n"
     ]
    }
   ],
   "source": [
    "print(empleados[2])"
   ]
  },
  {
   "cell_type": "markdown",
   "metadata": {},
   "source": [
    "### 1) Manipulación de Listas y Métodos:"
   ]
  },
  {
   "cell_type": "markdown",
   "metadata": {},
   "source": [
    "#### a) Crea una lista inicial de números enteros."
   ]
  },
  {
   "cell_type": "code",
   "execution_count": 148,
   "metadata": {},
   "outputs": [
    {
     "name": "stdout",
     "output_type": "stream",
     "text": [
      "[-5, 10, 5, -15, 20]\n"
     ]
    }
   ],
   "source": [
    "numeros = [-5,10,5,-15,20]\n",
    "print (numeros) "
   ]
  },
  {
   "cell_type": "markdown",
   "metadata": {},
   "source": [
    "#### b) Utiliza el método .append() para agregar un número al final de la lista."
   ]
  },
  {
   "cell_type": "code",
   "execution_count": 149,
   "metadata": {},
   "outputs": [
    {
     "name": "stdout",
     "output_type": "stream",
     "text": [
      "[-5, 10, 5, -15, 20, 25]\n"
     ]
    }
   ],
   "source": [
    "numeros.append(25)\n",
    "print(numeros)"
   ]
  },
  {
   "cell_type": "markdown",
   "metadata": {},
   "source": [
    "#### c) Utiliza el método .extend() para agregar múltiples elementos a la lista."
   ]
  },
  {
   "cell_type": "code",
   "execution_count": 150,
   "metadata": {},
   "outputs": [
    {
     "name": "stdout",
     "output_type": "stream",
     "text": [
      "[-5, 10, 5, -15, 20, 25, 30, 35, 40]\n"
     ]
    }
   ],
   "source": [
    "numeros.extend([30, 35, 40]) \n",
    "print(numeros)"
   ]
  },
  {
   "cell_type": "markdown",
   "metadata": {},
   "source": [
    "#### d) Utiliza el método .insert() para insertar un número en una posición específica de la lista."
   ]
  },
  {
   "cell_type": "code",
   "execution_count": 151,
   "metadata": {},
   "outputs": [
    {
     "name": "stdout",
     "output_type": "stream",
     "text": [
      "[-5, 10, 12, 5, -15, 20, 25, 30, 35, 40]\n"
     ]
    }
   ],
   "source": [
    "numeros.insert(2, 12) \n",
    "print(numeros)"
   ]
  },
  {
   "cell_type": "markdown",
   "metadata": {},
   "source": [
    "#### e) Muestra cómo utilizar el método .sort() para ordenar la lista de números de forma ascendente."
   ]
  },
  {
   "cell_type": "code",
   "execution_count": 152,
   "metadata": {},
   "outputs": [
    {
     "name": "stdout",
     "output_type": "stream",
     "text": [
      "[-15, -5, 5, 10, 12, 20, 25, 30, 35, 40]\n"
     ]
    }
   ],
   "source": [
    "numeros.sort() \n",
    "print(numeros) "
   ]
  },
  {
   "cell_type": "markdown",
   "metadata": {},
   "source": [
    "### 2) Manipulación de Diccionarios y Métodos:"
   ]
  },
  {
   "cell_type": "markdown",
   "metadata": {},
   "source": [
    "#### a) Crea un diccionario con información de productos (nombre del producto, precio, cantidad en stock)."
   ]
  },
  {
   "cell_type": "code",
   "execution_count": 153,
   "metadata": {},
   "outputs": [],
   "source": [
    "producto = { \"Laptop\": {\"precio\": 3200000, \"stock\": 10}, \n",
    "            \"Teléfono\": {\"precio\": 800000, \"stock\": 20}, \n",
    "            \"Tablet\": {\"precio\": 400000, \"stock\": 15},\n",
    "            \"Impresora\": {\"precio\": 380000, \"stock\": 8} \n",
    "            }"
   ]
  },
  {
   "cell_type": "markdown",
   "metadata": {},
   "source": [
    "#### b) Utiliza el método .keys() para obtener una lista de las llaves (nombres de productos) en el diccionario."
   ]
  },
  {
   "cell_type": "code",
   "execution_count": 154,
   "metadata": {},
   "outputs": [
    {
     "name": "stdout",
     "output_type": "stream",
     "text": [
      "['Laptop', 'Teléfono', 'Tablet', 'Impresora']\n"
     ]
    }
   ],
   "source": [
    "nombre_producto = list(producto.keys())\n",
    "print(nombre_producto) "
   ]
  },
  {
   "cell_type": "markdown",
   "metadata": {},
   "source": [
    "#### c) Utiliza el método .values() para obtener una lista de los valores (precios y cantidades) en el diccionario."
   ]
  },
  {
   "cell_type": "code",
   "execution_count": 155,
   "metadata": {},
   "outputs": [
    {
     "name": "stdout",
     "output_type": "stream",
     "text": [
      "[{'precio': 3200000, 'stock': 10}, {'precio': 800000, 'stock': 20}, {'precio': 400000, 'stock': 15}, {'precio': 380000, 'stock': 8}]\n"
     ]
    }
   ],
   "source": [
    "info_producto = list(producto.values()) \n",
    "print(info_producto) "
   ]
  },
  {
   "cell_type": "markdown",
   "metadata": {},
   "source": [
    "#### d) Utiliza el método .items() para obtener una lista de tuplas con pares clave-valor del diccionario."
   ]
  },
  {
   "cell_type": "code",
   "execution_count": 156,
   "metadata": {},
   "outputs": [
    {
     "name": "stdout",
     "output_type": "stream",
     "text": [
      "[('Laptop', {'precio': 3200000, 'stock': 10}), ('Teléfono', {'precio': 800000, 'stock': 20}), ('Tablet', {'precio': 400000, 'stock': 15}), ('Impresora', {'precio': 380000, 'stock': 8})]\n"
     ]
    }
   ],
   "source": [
    "producto_items = list(producto.items()) \n",
    "print(producto_items) "
   ]
  },
  {
   "cell_type": "markdown",
   "metadata": {},
   "source": [
    "#### e) Muestra cómo utilizar el método .get() para obtener el precio de un producto específico del diccionario."
   ]
  },
  {
   "cell_type": "code",
   "execution_count": 157,
   "metadata": {},
   "outputs": [
    {
     "name": "stdout",
     "output_type": "stream",
     "text": [
      "3200000\n"
     ]
    }
   ],
   "source": [
    "precio_laptop = producto.get(\"Laptop\").get(\"precio\")\n",
    "print(precio_laptop) "
   ]
  },
  {
   "cell_type": "markdown",
   "metadata": {},
   "source": [
    "### II Datos Complejos:"
   ]
  },
  {
   "cell_type": "markdown",
   "metadata": {},
   "source": [
    "#### a) Crear una lista de diccionarios que represente información de libros (título, autor, año de publicación)."
   ]
  },
  {
   "cell_type": "code",
   "execution_count": 162,
   "metadata": {},
   "outputs": [
    {
     "name": "stdout",
     "output_type": "stream",
     "text": [
      "[{'titulo': 'Harry Potter y la piedra filosofal', 'autor': 'J. K. Rowling', 'año_publicacion': 1997}, {'titulo': 'Harry Potter y la cámara secreta', 'autor': 'J. K. Rowling', 'año_publicacion': 1998}, {'titulo': 'Harry Potter y el prisionero de Azkaban', 'autor': 'J. K. Rowling', 'año_publicacion': 1999}]\n"
     ]
    }
   ],
   "source": [
    "diccionario_libros=[ {\"titulo\": \"Harry Potter y la piedra filosofal\", \"autor\": \"J. K. Rowling\", \"año_publicacion\": 1997}, \n",
    " {\"titulo\": \"Harry Potter y la cámara secreta\", \"autor\": \"J. K. Rowling\", \"año_publicacion\": 1998}, \n",
    " {\"titulo\": \"Harry Potter y el prisionero de Azkaban\", \"autor\": \"J. K. Rowling\", \"año_publicacion\": 1999}\n",
    "  ]\n",
    "print (diccionario_libros)"
   ]
  },
  {
   "cell_type": "markdown",
   "metadata": {},
   "source": [
    "#### b) Crear un diccionario que contenga listas como valores (por ejemplo, un diccionario de estudiantes y sus materias)."
   ]
  },
  {
   "cell_type": "code",
   "execution_count": 160,
   "metadata": {},
   "outputs": [
    {
     "name": "stdout",
     "output_type": "stream",
     "text": [
      "{'Mica': ['Matemáticas', 'Física', 'Química'], 'Gisel': ['Historia', 'Literatura', 'Inglés'], 'Johan': ['Biología', 'Geografía', 'Educación Física']}\n"
     ]
    }
   ],
   "source": [
    "estudiantes_materias = { \"Mica\": [\"Matemáticas\", \"Física\", \"Química\"], \n",
    "                        \"Gisel\": [\"Historia\", \"Literatura\", \"Inglés\"], \n",
    "                        \"Johan\": [\"Biología\", \"Geografía\", \"Educación Física\"] }\n",
    "\n",
    "print(estudiantes_materias)"
   ]
  },
  {
   "cell_type": "markdown",
   "metadata": {},
   "source": [
    "#### c) Mostrar cómo modificar un valor en una lista dentro de un diccionario y viceversa."
   ]
  },
  {
   "cell_type": "code",
   "execution_count": 161,
   "metadata": {},
   "outputs": [
    {
     "name": "stdout",
     "output_type": "stream",
     "text": [
      "{'Mica': ['Programación', 'Física', 'Química'], 'Gisel': ['Historia', 'Literatura', 'Inglés'], 'Johan': ['Biología', 'Geografía', 'Educación Física']}\n"
     ]
    }
   ],
   "source": [
    "estudiantes_materias[\"Mica\"][0] = \"Programación\"\n",
    "print(estudiantes_materias)"
   ]
  },
  {
   "cell_type": "code",
   "execution_count": 163,
   "metadata": {},
   "outputs": [
    {
     "name": "stdout",
     "output_type": "stream",
     "text": [
      "[{'titulo': 'Harry Potter y la piedra filosofal', 'autor': 'J. K. Rowling', 'año_publicacion': 1997}, {'titulo': 'Harry Potter y la cámara secreta', 'autor': 'J. K. Rowling', 'año_publicacion': 1196}, {'titulo': 'Harry Potter y el prisionero de Azkaban', 'autor': 'J. K. Rowling', 'año_publicacion': 1999}]\n"
     ]
    }
   ],
   "source": [
    "diccionario_libros[1][\"año_publicacion\"]=1196\n",
    "print (diccionario_libros)"
   ]
  }
 ],
 "metadata": {
  "kernelspec": {
   "display_name": "Python 3",
   "language": "python",
   "name": "python3"
  },
  "language_info": {
   "codemirror_mode": {
    "name": "ipython",
    "version": 3
   },
   "file_extension": ".py",
   "mimetype": "text/x-python",
   "name": "python",
   "nbconvert_exporter": "python",
   "pygments_lexer": "ipython3",
   "version": "3.11.5"
  }
 },
 "nbformat": 4,
 "nbformat_minor": 2
}
